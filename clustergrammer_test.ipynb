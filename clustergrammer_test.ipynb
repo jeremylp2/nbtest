{
 "cells": [
  {
   "cell_type": "markdown",
   "metadata": {},
   "source": [
    "##### Front matter - get pathway pacids + full transcriptNames"
   ]
  },
  {
   "cell_type": "code",
   "execution_count": null,
   "metadata": {
    "collapsed": true
   },
   "outputs": [],
   "source": [
    "import os\n",
    "import sys\n",
    "import clustergrammer\n",
    "import json\n",
    "import pandas\n",
    "from clustergrammer_widget import *\n",
    "import urllib\n",
    "import requests\n",
    "from urlparse import urljoin\n",
    "from clustergrammer import Network\n",
    "from collections import defaultdict\n",
    "\n",
    "#grab pids for a pathway and transcript names\n",
    "api_url_base = \"https://njp-spin.jgi.doe.gov/api/db/\"\n",
    "pathway_url = api_url_base + \"pathway/\"\n",
    "pathway_id = \"PWY-6608\"\n",
    "params = {\"proteome\" : \"297\"}\n",
    "r = requests.get(pathway_url + pathway_id, params=params)\n",
    "pathway_json = r.json() #json.loads(urllib.urlopen(pathway_url).read())\n",
    "pacids = set()\n",
    "for annot in pathway_json[\"annotations\"]:\n",
    "    pacids.update(set(pacid for pacid in annot[\"proteins\"]))\n",
    "feature_url = urljoin(api_url_base, \"sequence/transcript/\" + ','.join(pacids))\n",
    "pacid_to_tname = {}\n",
    "r = requests.get(feature_url)\n",
    "trans_json = r.json()\n",
    "for entry in trans_json:\n",
    "    pacid_to_tname[entry[\"uniquename\"]] = entry[\"name\"]"
   ]
  },
  {
   "cell_type": "markdown",
   "metadata": {},
   "source": [
    "## Clustered expression example"
   ]
  },
  {
   "cell_type": "code",
   "execution_count": 36,
   "metadata": {
    "scrolled": true
   },
   "outputs": [
    {
     "data": {
      "application/vnd.jupyter.widget-view+json": {
       "model_id": "3c62fb5e223c4a8e98b25086b561327b"
      }
     },
     "metadata": {},
     "output_type": "display_data"
    }
   ],
   "source": [
    "ex_base = api_url_base + \"expression/gene/\"\n",
    "ex_url = ex_base + urllib.quote(','.join(pacids))\n",
    "\n",
    "exh = urllib.urlopen(ex_url)\n",
    "score_dict = defaultdict(dict)\n",
    "condition_set = set()\n",
    "for line in exh:\n",
    "    pacid, tname, condition, score = line.strip().split() \n",
    "    score_dict[pacid_to_tname[pacid]][condition] = float(score) #api returns truncated tname, map for now\n",
    "    condition_set.add(condition)\n",
    "exh.close()\n",
    "scs = sorted(condition_set)\n",
    "df = pandas.DataFrame(0.0, columns = scs, index = sorted([str(pacid_to_tname[x]) for x in pacids]))\n",
    "for tname in score_dict:\n",
    "    for condition in scs:\n",
    "        df[condition][tname] = score_dict[tname][condition]          \n",
    "net = Network(clustergrammer_widget)\n",
    "net.load_df(df)\n",
    "net.cluster()\n",
    "net.widget()"
   ]
  },
  {
   "cell_type": "markdown",
   "metadata": {},
   "source": [
    "## Coexpression example"
   ]
  },
  {
   "cell_type": "code",
   "execution_count": 15,
   "metadata": {},
   "outputs": [
    {
     "data": {
      "application/vnd.jupyter.widget-view+json": {
       "model_id": "b9cd1513b2554e368025523705a5c1bd"
      }
     },
     "metadata": {},
     "output_type": "display_data"
    }
   ],
   "source": [
    "score_dict = defaultdict(dict)\n",
    "condition_set = set()\n",
    "stnames = sorted([pacid_to_tname[x] for x in pacids])\n",
    "df = pandas.DataFrame(0.0, columns=stnames, index=stnames)\n",
    "coex_base = api_url_base + \"coexpression/gene/\"\n",
    "coex_url = coex_base + urllib.quote(','.join(pacids))\n",
    "coexh = urllib.urlopen(coex_url)\n",
    "for line in coexh:\n",
    "    pacid1, pacid2, score = line.strip().split()\n",
    "    tname1 = str(pacid_to_tname[pacid1])\n",
    "    tname2 = str(pacid_to_tname[pacid2])\n",
    "    df[tname1][tname2] = float(score)\n",
    "    df[tname2][tname1] = float(score)\n",
    "rows = df.index.tolist()\n",
    "coexh.close()\n",
    "net = Network(clustergrammer_widget)\n",
    "net.load_df(df)\n",
    "net.cluster()\n",
    "net.widget()"
   ]
  },
  {
   "cell_type": "markdown",
   "metadata": {},
   "source": [
    "## Clustered expression w/ homology filter"
   ]
  },
  {
   "cell_type": "code",
   "execution_count": 29,
   "metadata": {},
   "outputs": [
    {
     "data": {
      "application/vnd.jupyter.widget-view+json": {
       "model_id": "a845680d657f4c8fa3a21a38564efac1"
      }
     },
     "metadata": {},
     "output_type": "display_data"
    }
   ],
   "source": [
    "max_evalue = 1e-100\n",
    "seed_gene = \"32056480\"\n",
    "homology_base = api_url_base + \"homologs/gene/identifier/\"\n",
    "filter_params = params # grab proteomeId above\n",
    "homology_url = homology_base + seed_gene\n",
    "r = requests.get(homology_url, params=params)\n",
    "homolog_json = r.json()\n",
    "included_pacids = set([\"PAC:\" + seed_gene])\n",
    "for entry in homolog_json:\n",
    "    prepend_pac = \"PAC:\" + entry[\"hitIdentifier\"]\n",
    "    if float(entry[\"evalue\"]) < max_evalue and prepend_pac in pacids:\n",
    "        included_pacids.add(prepend_pac)\n",
    "ex_url = ex_base + urllib.quote(','.join(included_pacids))\n",
    "exh = urllib.urlopen(ex_url)\n",
    "score_dict = defaultdict(dict)\n",
    "condition_set = set()\n",
    "for line in exh:\n",
    "    pacid, tname, condition, score = line.strip().split() \n",
    "    score_dict[pacid_to_tname[pacid]][condition] = float(score) #api returns truncated tname, map for now\n",
    "    condition_set.add(condition)\n",
    "exh.close()\n",
    "scs = sorted(condition_set)\n",
    "df = pandas.DataFrame(0.0, columns = scs, index = sorted([str(pacid_to_tname[x]) for x in pacids]))\n",
    "for tname in score_dict:\n",
    "    for condition in scs:\n",
    "        df[condition][tname] = score_dict[tname][condition] \n",
    "net = Network(clustergrammer_widget)\n",
    "net.load_df(df)\n",
    "net.cluster()\n",
    "net.widget()"
   ]
  },
  {
   "cell_type": "code",
   "execution_count": null,
   "metadata": {
    "collapsed": true
   },
   "outputs": [],
   "source": []
  },
  {
   "cell_type": "code",
   "execution_count": null,
   "metadata": {
    "collapsed": true
   },
   "outputs": [],
   "source": []
  },
  {
   "cell_type": "code",
   "execution_count": null,
   "metadata": {
    "collapsed": true
   },
   "outputs": [],
   "source": []
  },
  {
   "cell_type": "code",
   "execution_count": null,
   "metadata": {
    "collapsed": true
   },
   "outputs": [],
   "source": []
  },
  {
   "cell_type": "code",
   "execution_count": null,
   "metadata": {
    "collapsed": true
   },
   "outputs": [],
   "source": []
  }
 ],
 "metadata": {
  "kernelspec": {
   "display_name": "Python 2",
   "language": "python",
   "name": "python2"
  },
  "language_info": {
   "codemirror_mode": {
    "name": "ipython",
    "version": 2
   },
   "file_extension": ".py",
   "mimetype": "text/x-python",
   "name": "python",
   "nbconvert_exporter": "python",
   "pygments_lexer": "ipython2",
   "version": "2.7.13"
  }
 },
 "nbformat": 4,
 "nbformat_minor": 2
}
